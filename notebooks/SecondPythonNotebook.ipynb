{
 "cells": [
  {
   "cell_type": "code",
   "execution_count": 0,
   "metadata": {
    "application/vnd.databricks.v1+cell": {
     "cellMetadata": {
      "byteLimit": 2048000,
      "rowLimit": 10000
     },
     "inputWidgets": {},
     "nuid": "bdb76136-66f6-41f8-89fc-fbf562c40eb9",
     "showTitle": false,
     "title": ""
    }
   },
   "outputs": [
    {
     "output_type": "display_data",
     "data": {
      "text/html": [
       "<style scoped>\n",
       "  .table-result-container {\n",
       "    max-height: 300px;\n",
       "    overflow: auto;\n",
       "  }\n",
       "  table, th, td {\n",
       "    border: 1px solid black;\n",
       "    border-collapse: collapse;\n",
       "  }\n",
       "  th, td {\n",
       "    padding: 5px;\n",
       "  }\n",
       "  th {\n",
       "    text-align: left;\n",
       "  }\n",
       "</style><div class='table-result-container'><table class='table-result'><thead style='background-color: white'><tr><th>fixed_acidity</th><th>volatile_acidity</th><th>citric_acid</th><th>residual_sugar</th><th>chlorides</th><th>free_sulfur_dioxide</th><th>total_sulfur_dioxide</th><th>density</th><th>pH</th><th>sulphates</th><th>alcohol</th><th>quality</th></tr></thead><tbody><tr><td>7.4</td><td>0.7</td><td>0.0</td><td>1.9</td><td>0.076</td><td>11.0</td><td>34.0</td><td>0.9978</td><td>3.51</td><td>0.56</td><td>9.4</td><td>5</td></tr><tr><td>7.8</td><td>0.88</td><td>0.0</td><td>2.6</td><td>0.098</td><td>25.0</td><td>67.0</td><td>0.9968</td><td>3.2</td><td>0.68</td><td>9.8</td><td>5</td></tr><tr><td>7.8</td><td>0.76</td><td>0.04</td><td>2.3</td><td>0.092</td><td>15.0</td><td>54.0</td><td>0.997</td><td>3.26</td><td>0.65</td><td>9.8</td><td>5</td></tr><tr><td>11.2</td><td>0.28</td><td>0.56</td><td>1.9</td><td>0.075</td><td>17.0</td><td>60.0</td><td>0.998</td><td>3.16</td><td>0.58</td><td>9.8</td><td>6</td></tr><tr><td>7.4</td><td>0.7</td><td>0.0</td><td>1.9</td><td>0.076</td><td>11.0</td><td>34.0</td><td>0.9978</td><td>3.51</td><td>0.56</td><td>9.4</td><td>5</td></tr></tbody></table></div>"
      ]
     },
     "metadata": {
      "application/vnd.databricks.v1+output": {
       "addedWidgets": {},
       "aggData": [],
       "aggError": "",
       "aggOverflow": false,
       "aggSchema": [],
       "aggSeriesLimitReached": false,
       "aggType": "",
       "arguments": {},
       "columnCustomDisplayInfos": {},
       "data": [
        [
         7.4,
         0.7,
         0.0,
         1.9,
         0.076,
         11.0,
         34.0,
         0.9978,
         3.51,
         0.56,
         9.4,
         5
        ],
        [
         7.8,
         0.88,
         0.0,
         2.6,
         0.098,
         25.0,
         67.0,
         0.9968,
         3.2,
         0.68,
         9.8,
         5
        ],
        [
         7.8,
         0.76,
         0.04,
         2.3,
         0.092,
         15.0,
         54.0,
         0.997,
         3.26,
         0.65,
         9.8,
         5
        ],
        [
         11.2,
         0.28,
         0.56,
         1.9,
         0.075,
         17.0,
         60.0,
         0.998,
         3.16,
         0.58,
         9.8,
         6
        ],
        [
         7.4,
         0.7,
         0.0,
         1.9,
         0.076,
         11.0,
         34.0,
         0.9978,
         3.51,
         0.56,
         9.4,
         5
        ]
       ],
       "datasetInfos": [],
       "dbfsResultPath": null,
       "isJsonSchema": true,
       "metadata": {},
       "overflow": false,
       "plotOptions": {
        "customPlotOptions": {},
        "displayType": "table",
        "pivotAggregation": null,
        "pivotColumns": null,
        "xColumns": null,
        "yColumns": null
       },
       "removedWidgets": [],
       "schema": [
        {
         "metadata": "{}",
         "name": "fixed_acidity",
         "type": "\"double\""
        },
        {
         "metadata": "{}",
         "name": "volatile_acidity",
         "type": "\"double\""
        },
        {
         "metadata": "{}",
         "name": "citric_acid",
         "type": "\"double\""
        },
        {
         "metadata": "{}",
         "name": "residual_sugar",
         "type": "\"double\""
        },
        {
         "metadata": "{}",
         "name": "chlorides",
         "type": "\"double\""
        },
        {
         "metadata": "{}",
         "name": "free_sulfur_dioxide",
         "type": "\"double\""
        },
        {
         "metadata": "{}",
         "name": "total_sulfur_dioxide",
         "type": "\"double\""
        },
        {
         "metadata": "{}",
         "name": "density",
         "type": "\"double\""
        },
        {
         "metadata": "{}",
         "name": "pH",
         "type": "\"double\""
        },
        {
         "metadata": "{}",
         "name": "sulphates",
         "type": "\"double\""
        },
        {
         "metadata": "{}",
         "name": "alcohol",
         "type": "\"double\""
        },
        {
         "metadata": "{}",
         "name": "quality",
         "type": "\"long\""
        }
       ],
       "type": "table"
      }
     },
     "output_type": "display_data"
    }
   ],
   "source": [
    "df = spark.sql(\"SELECT * FROM wine.wine_quality\")\n",
    "display(df.head(5))"
   ]
  },
  {
   "cell_type": "code",
   "execution_count": 0,
   "metadata": {
    "application/vnd.databricks.v1+cell": {
     "cellMetadata": {
      "byteLimit": 2048000,
      "rowLimit": 10000
     },
     "inputWidgets": {},
     "nuid": "0ded12a2-5b6c-474c-9a96-a49a5a94ecb1",
     "showTitle": false,
     "title": ""
    }
   },
   "outputs": [
    {
     "output_type": "display_data",
     "data": {
      "text/html": [
       "<style scoped>\n",
       "  .table-result-container {\n",
       "    max-height: 300px;\n",
       "    overflow: auto;\n",
       "  }\n",
       "  table, th, td {\n",
       "    border: 1px solid black;\n",
       "    border-collapse: collapse;\n",
       "  }\n",
       "  th, td {\n",
       "    padding: 5px;\n",
       "  }\n",
       "  th {\n",
       "    text-align: left;\n",
       "  }\n",
       "</style><div class='table-result-container'><table class='table-result'><thead style='background-color: white'><tr><th>summary</th><th>fixed_acidity</th><th>volatile_acidity</th><th>citric_acid</th><th>residual_sugar</th><th>chlorides</th><th>free_sulfur_dioxide</th><th>total_sulfur_dioxide</th><th>density</th><th>pH</th><th>sulphates</th><th>alcohol</th><th>quality</th></tr></thead><tbody><tr><td>count</td><td>1599</td><td>1599</td><td>1599</td><td>1599</td><td>1599</td><td>1599</td><td>1599</td><td>1599</td><td>1599</td><td>1599</td><td>1599</td><td>1599</td></tr><tr><td>mean</td><td>8.319637273295838</td><td>0.5278205128205131</td><td>0.2709756097560964</td><td>2.5388055034396517</td><td>0.08746654158849257</td><td>15.874921826141339</td><td>46.46779237023139</td><td>0.9967466791744831</td><td>3.311113195747343</td><td>0.6581488430268921</td><td>10.422983114446502</td><td>5.6360225140712945</td></tr><tr><td>stddev</td><td>1.7410963181276948</td><td>0.17905970415353525</td><td>0.19480113740531824</td><td>1.40992805950728</td><td>0.047065302010090085</td><td>10.46015696980971</td><td>32.89532447829907</td><td>0.0018873339538427265</td><td>0.15438646490354271</td><td>0.1695069795901101</td><td>1.0656675818473935</td><td>0.8075694397347051</td></tr><tr><td>min</td><td>4.6</td><td>0.12</td><td>0.0</td><td>0.9</td><td>0.012</td><td>1.0</td><td>6.0</td><td>0.99007</td><td>2.74</td><td>0.33</td><td>8.4</td><td>3</td></tr><tr><td>max</td><td>15.9</td><td>1.58</td><td>1.0</td><td>15.5</td><td>0.611</td><td>72.0</td><td>289.0</td><td>1.00369</td><td>4.01</td><td>2.0</td><td>14.9</td><td>8</td></tr></tbody></table></div>"
      ]
     },
     "metadata": {
      "application/vnd.databricks.v1+output": {
       "addedWidgets": {},
       "aggData": [],
       "aggError": "",
       "aggOverflow": false,
       "aggSchema": [],
       "aggSeriesLimitReached": false,
       "aggType": "",
       "arguments": {},
       "columnCustomDisplayInfos": {},
       "data": [
        [
         "count",
         "1599",
         "1599",
         "1599",
         "1599",
         "1599",
         "1599",
         "1599",
         "1599",
         "1599",
         "1599",
         "1599",
         "1599"
        ],
        [
         "mean",
         "8.319637273295838",
         "0.5278205128205131",
         "0.2709756097560964",
         "2.5388055034396517",
         "0.08746654158849257",
         "15.874921826141339",
         "46.46779237023139",
         "0.9967466791744831",
         "3.311113195747343",
         "0.6581488430268921",
         "10.422983114446502",
         "5.6360225140712945"
        ],
        [
         "stddev",
         "1.7410963181276948",
         "0.17905970415353525",
         "0.19480113740531824",
         "1.40992805950728",
         "0.047065302010090085",
         "10.46015696980971",
         "32.89532447829907",
         "0.0018873339538427265",
         "0.15438646490354271",
         "0.1695069795901101",
         "1.0656675818473935",
         "0.8075694397347051"
        ],
        [
         "min",
         "4.6",
         "0.12",
         "0.0",
         "0.9",
         "0.012",
         "1.0",
         "6.0",
         "0.99007",
         "2.74",
         "0.33",
         "8.4",
         "3"
        ],
        [
         "max",
         "15.9",
         "1.58",
         "1.0",
         "15.5",
         "0.611",
         "72.0",
         "289.0",
         "1.00369",
         "4.01",
         "2.0",
         "14.9",
         "8"
        ]
       ],
       "datasetInfos": [],
       "dbfsResultPath": null,
       "isJsonSchema": true,
       "metadata": {},
       "overflow": false,
       "plotOptions": {
        "customPlotOptions": {},
        "displayType": "table",
        "pivotAggregation": null,
        "pivotColumns": null,
        "xColumns": null,
        "yColumns": null
       },
       "removedWidgets": [],
       "schema": [
        {
         "metadata": "{}",
         "name": "summary",
         "type": "\"string\""
        },
        {
         "metadata": "{}",
         "name": "fixed_acidity",
         "type": "\"string\""
        },
        {
         "metadata": "{}",
         "name": "volatile_acidity",
         "type": "\"string\""
        },
        {
         "metadata": "{}",
         "name": "citric_acid",
         "type": "\"string\""
        },
        {
         "metadata": "{}",
         "name": "residual_sugar",
         "type": "\"string\""
        },
        {
         "metadata": "{}",
         "name": "chlorides",
         "type": "\"string\""
        },
        {
         "metadata": "{}",
         "name": "free_sulfur_dioxide",
         "type": "\"string\""
        },
        {
         "metadata": "{}",
         "name": "total_sulfur_dioxide",
         "type": "\"string\""
        },
        {
         "metadata": "{}",
         "name": "density",
         "type": "\"string\""
        },
        {
         "metadata": "{}",
         "name": "pH",
         "type": "\"string\""
        },
        {
         "metadata": "{}",
         "name": "sulphates",
         "type": "\"string\""
        },
        {
         "metadata": "{}",
         "name": "alcohol",
         "type": "\"string\""
        },
        {
         "metadata": "{}",
         "name": "quality",
         "type": "\"string\""
        }
       ],
       "type": "table"
      }
     },
     "output_type": "display_data"
    }
   ],
   "source": [
    "display(df.describe())"
   ]
  },
  {
   "cell_type": "code",
   "execution_count": 0,
   "metadata": {
    "application/vnd.databricks.v1+cell": {
     "cellMetadata": {
      "byteLimit": 2048000,
      "rowLimit": 10000
     },
     "inputWidgets": {},
     "nuid": "29e3cf11-b4f9-4df9-b174-a5e54d2dde69",
     "showTitle": false,
     "title": ""
    }
   },
   "outputs": [],
   "source": [
    "from pyspark.ml.stat import Correlation\n",
    "from pyspark.ml.feature import VectorAssembler"
   ]
  },
  {
   "cell_type": "code",
   "execution_count": 0,
   "metadata": {
    "application/vnd.databricks.v1+cell": {
     "cellMetadata": {
      "byteLimit": 2048000,
      "rowLimit": 10000
     },
     "inputWidgets": {},
     "nuid": "0d6c6cde-e919-4acc-85fa-3de3cd84cf48",
     "showTitle": false,
     "title": ""
    }
   },
   "outputs": [
    {
     "output_type": "display_data",
     "data": {
      "text/html": [
       "<style scoped>\n",
       "  .table-result-container {\n",
       "    max-height: 300px;\n",
       "    overflow: auto;\n",
       "  }\n",
       "  table, th, td {\n",
       "    border: 1px solid black;\n",
       "    border-collapse: collapse;\n",
       "  }\n",
       "  th, td {\n",
       "    padding: 5px;\n",
       "  }\n",
       "  th {\n",
       "    text-align: left;\n",
       "  }\n",
       "</style><div class='table-result-container'><table class='table-result'><thead style='background-color: white'><tr><th>fixed_acidity</th><th>volatile_acidity</th><th>citric_acid</th><th>residual_sugar</th><th>chlorides</th><th>free_sulfur_dioxide</th><th>total_sulfur_dioxide</th><th>density</th><th>pH</th><th>sulphates</th><th>alcohol</th><th>quality</th></tr></thead><tbody><tr><td>1.0</td><td>-0.25613089477038115</td><td>0.671703434764099</td><td>0.11477672449492084</td><td>0.09370518632130496</td><td>-0.15379419286482396</td><td>-0.1131814430454812</td><td>0.6680472921189685</td><td>-0.6829781945685268</td><td>0.18300566393215256</td><td>-0.06166827062815074</td><td>0.12405164911322412</td></tr><tr><td>-0.25613089477038115</td><td>1.0</td><td>-0.5524956845595805</td><td>0.001917881962790756</td><td>0.06129777247646171</td><td>-0.01050382700659185</td><td>0.0764700048209286</td><td>0.02202623219521595</td><td>0.23493729440739353</td><td>-0.26098668528329094</td><td>-0.20228802715325678</td><td>-0.3905577802640098</td></tr><tr><td>0.671703434764099</td><td>-0.5524956845595805</td><td>1.0</td><td>0.1435771615703135</td><td>0.20382291382904089</td><td>-0.0609781291923047</td><td>0.03553302393116138</td><td>0.36494717521124903</td><td>-0.5419041447395085</td><td>0.312770043854415</td><td>0.1099032466415665</td><td>0.22637251431804165</td></tr><tr><td>0.11477672449492084</td><td>0.001917881962790756</td><td>0.1435771615703135</td><td>1.0</td><td>0.055609535203532075</td><td>0.18704899510428685</td><td>0.2030278816971019</td><td>0.35528337098337565</td><td>-0.08565242221887136</td><td>0.00552712133913826</td><td>0.04207543720973108</td><td>0.013731637340066436</td></tr><tr><td>0.09370518632130496</td><td>0.06129777247646171</td><td>0.20382291382904089</td><td>0.055609535203532075</td><td>1.0</td><td>0.005562147004781104</td><td>0.04740046825907533</td><td>0.20063232664151198</td><td>-0.2650261311732273</td><td>0.37126048128542677</td><td>-0.221140544788283</td><td>-0.12890655993005298</td></tr><tr><td>-0.15379419286482396</td><td>-0.01050382700659185</td><td>-0.0609781291923047</td><td>0.18704899510428685</td><td>0.005562147004781104</td><td>1.0</td><td>0.6676664504810211</td><td>-0.02194583116348915</td><td>0.07037749850494174</td><td>0.051657571842828695</td><td>-0.06940835356499975</td><td>-0.05065605724427631</td></tr><tr><td>-0.1131814430454812</td><td>0.0764700048209286</td><td>0.03553302393116138</td><td>0.2030278816971019</td><td>0.04740046825907533</td><td>0.6676664504810211</td><td>1.0</td><td>0.07126947620310323</td><td>-0.06649455901285604</td><td>0.04294683623953829</td><td>-0.20565394374367113</td><td>-0.18510028892653863</td></tr><tr><td>0.6680472921189685</td><td>0.02202623219521595</td><td>0.36494717521124903</td><td>0.35528337098337565</td><td>0.20063232664151198</td><td>-0.02194583116348915</td><td>0.07126947620310323</td><td>1.0</td><td>-0.3416993347850295</td><td>0.14850641172078546</td><td>-0.4961797702417006</td><td>-0.17491922778334934</td></tr><tr><td>-0.6829781945685268</td><td>0.23493729440739353</td><td>-0.5419041447395085</td><td>-0.08565242221887136</td><td>-0.2650261311732273</td><td>0.07037749850494174</td><td>-0.06649455901285604</td><td>-0.3416993347850295</td><td>1.0</td><td>-0.1966476023043707</td><td>0.20563250850549786</td><td>-0.05773139120538233</td></tr><tr><td>0.18300566393215256</td><td>-0.26098668528329094</td><td>0.312770043854415</td><td>0.00552712133913826</td><td>0.37126048128542677</td><td>0.051657571842828695</td><td>0.04294683623953829</td><td>0.14850641172078546</td><td>-0.1966476023043707</td><td>1.0</td><td>0.09359475041046737</td><td>0.25139707906926184</td></tr><tr><td>-0.06166827062815074</td><td>-0.20228802715325678</td><td>0.1099032466415665</td><td>0.04207543720973108</td><td>-0.221140544788283</td><td>-0.06940835356499975</td><td>-0.20565394374367113</td><td>-0.4961797702417006</td><td>0.20563250850549786</td><td>0.09359475041046737</td><td>1.0</td><td>0.4761663240011388</td></tr><tr><td>0.12405164911322412</td><td>-0.3905577802640098</td><td>0.22637251431804165</td><td>0.013731637340066436</td><td>-0.12890655993005298</td><td>-0.05065605724427631</td><td>-0.18510028892653863</td><td>-0.17491922778334934</td><td>-0.05773139120538233</td><td>0.25139707906926184</td><td>0.4761663240011388</td><td>1.0</td></tr></tbody></table></div>"
      ]
     },
     "metadata": {
      "application/vnd.databricks.v1+output": {
       "addedWidgets": {},
       "aggData": [],
       "aggError": "",
       "aggOverflow": false,
       "aggSchema": [],
       "aggSeriesLimitReached": false,
       "aggType": "",
       "arguments": {},
       "columnCustomDisplayInfos": {},
       "data": [
        [
         1.0,
         -0.25613089477038115,
         0.671703434764099,
         0.11477672449492084,
         0.09370518632130496,
         -0.15379419286482396,
         -0.1131814430454812,
         0.6680472921189685,
         -0.6829781945685268,
         0.18300566393215256,
         -0.06166827062815074,
         0.12405164911322412
        ],
        [
         -0.25613089477038115,
         1.0,
         -0.5524956845595805,
         0.001917881962790756,
         0.06129777247646171,
         -0.01050382700659185,
         0.0764700048209286,
         0.02202623219521595,
         0.23493729440739353,
         -0.26098668528329094,
         -0.20228802715325678,
         -0.3905577802640098
        ],
        [
         0.671703434764099,
         -0.5524956845595805,
         1.0,
         0.1435771615703135,
         0.20382291382904089,
         -0.0609781291923047,
         0.03553302393116138,
         0.36494717521124903,
         -0.5419041447395085,
         0.312770043854415,
         0.1099032466415665,
         0.22637251431804165
        ],
        [
         0.11477672449492084,
         0.001917881962790756,
         0.1435771615703135,
         1.0,
         0.055609535203532075,
         0.18704899510428685,
         0.2030278816971019,
         0.35528337098337565,
         -0.08565242221887136,
         0.00552712133913826,
         0.04207543720973108,
         0.013731637340066436
        ],
        [
         0.09370518632130496,
         0.06129777247646171,
         0.20382291382904089,
         0.055609535203532075,
         1.0,
         0.005562147004781104,
         0.04740046825907533,
         0.20063232664151198,
         -0.2650261311732273,
         0.37126048128542677,
         -0.221140544788283,
         -0.12890655993005298
        ],
        [
         -0.15379419286482396,
         -0.01050382700659185,
         -0.0609781291923047,
         0.18704899510428685,
         0.005562147004781104,
         1.0,
         0.6676664504810211,
         -0.02194583116348915,
         0.07037749850494174,
         0.051657571842828695,
         -0.06940835356499975,
         -0.05065605724427631
        ],
        [
         -0.1131814430454812,
         0.0764700048209286,
         0.03553302393116138,
         0.2030278816971019,
         0.04740046825907533,
         0.6676664504810211,
         1.0,
         0.07126947620310323,
         -0.06649455901285604,
         0.04294683623953829,
         -0.20565394374367113,
         -0.18510028892653863
        ],
        [
         0.6680472921189685,
         0.02202623219521595,
         0.36494717521124903,
         0.35528337098337565,
         0.20063232664151198,
         -0.02194583116348915,
         0.07126947620310323,
         1.0,
         -0.3416993347850295,
         0.14850641172078546,
         -0.4961797702417006,
         -0.17491922778334934
        ],
        [
         -0.6829781945685268,
         0.23493729440739353,
         -0.5419041447395085,
         -0.08565242221887136,
         -0.2650261311732273,
         0.07037749850494174,
         -0.06649455901285604,
         -0.3416993347850295,
         1.0,
         -0.1966476023043707,
         0.20563250850549786,
         -0.05773139120538233
        ],
        [
         0.18300566393215256,
         -0.26098668528329094,
         0.312770043854415,
         0.00552712133913826,
         0.37126048128542677,
         0.051657571842828695,
         0.04294683623953829,
         0.14850641172078546,
         -0.1966476023043707,
         1.0,
         0.09359475041046737,
         0.25139707906926184
        ],
        [
         -0.06166827062815074,
         -0.20228802715325678,
         0.1099032466415665,
         0.04207543720973108,
         -0.221140544788283,
         -0.06940835356499975,
         -0.20565394374367113,
         -0.4961797702417006,
         0.20563250850549786,
         0.09359475041046737,
         1.0,
         0.4761663240011388
        ],
        [
         0.12405164911322412,
         -0.3905577802640098,
         0.22637251431804165,
         0.013731637340066436,
         -0.12890655993005298,
         -0.05065605724427631,
         -0.18510028892653863,
         -0.17491922778334934,
         -0.05773139120538233,
         0.25139707906926184,
         0.4761663240011388,
         1.0
        ]
       ],
       "datasetInfos": [],
       "dbfsResultPath": null,
       "isJsonSchema": true,
       "metadata": {},
       "overflow": false,
       "plotOptions": {
        "customPlotOptions": {},
        "displayType": "table",
        "pivotAggregation": null,
        "pivotColumns": null,
        "xColumns": null,
        "yColumns": null
       },
       "removedWidgets": [],
       "schema": [
        {
         "metadata": "{}",
         "name": "fixed_acidity",
         "type": "\"double\""
        },
        {
         "metadata": "{}",
         "name": "volatile_acidity",
         "type": "\"double\""
        },
        {
         "metadata": "{}",
         "name": "citric_acid",
         "type": "\"double\""
        },
        {
         "metadata": "{}",
         "name": "residual_sugar",
         "type": "\"double\""
        },
        {
         "metadata": "{}",
         "name": "chlorides",
         "type": "\"double\""
        },
        {
         "metadata": "{}",
         "name": "free_sulfur_dioxide",
         "type": "\"double\""
        },
        {
         "metadata": "{}",
         "name": "total_sulfur_dioxide",
         "type": "\"double\""
        },
        {
         "metadata": "{}",
         "name": "density",
         "type": "\"double\""
        },
        {
         "metadata": "{}",
         "name": "pH",
         "type": "\"double\""
        },
        {
         "metadata": "{}",
         "name": "sulphates",
         "type": "\"double\""
        },
        {
         "metadata": "{}",
         "name": "alcohol",
         "type": "\"double\""
        },
        {
         "metadata": "{}",
         "name": "quality",
         "type": "\"double\""
        }
       ],
       "type": "table"
      }
     },
     "output_type": "display_data"
    }
   ],
   "source": [
    "vcol = 'temp'\n",
    "assembler = VectorAssembler(inputCols=df.columns, outputCol=vcol)\n",
    "vdf = assembler.transform(df).select(vcol)\n",
    "matrix = Correlation.corr(vdf, vcol)\n",
    "\n",
    "new_df = spark.createDataFrame(matrix.collect()[0][0].toArray().tolist(), df.columns)\n",
    "\n",
    "display(new_df)"
   ]
  },
  {
   "cell_type": "code",
   "execution_count": 0,
   "metadata": {
    "application/vnd.databricks.v1+cell": {
     "cellMetadata": {
      "byteLimit": 2048000,
      "rowLimit": 10000
     },
     "inputWidgets": {},
     "nuid": "d3d3a1e5-2f88-4efc-8e61-99c8c2800b50",
     "showTitle": false,
     "title": ""
    }
   },
   "outputs": [
    {
     "output_type": "display_data",
     "data": {
      "text/html": [
       "<style scoped>\n",
       "  .table-result-container {\n",
       "    max-height: 300px;\n",
       "    overflow: auto;\n",
       "  }\n",
       "  table, th, td {\n",
       "    border: 1px solid black;\n",
       "    border-collapse: collapse;\n",
       "  }\n",
       "  th, td {\n",
       "    padding: 5px;\n",
       "  }\n",
       "  th {\n",
       "    text-align: left;\n",
       "  }\n",
       "</style><div class='table-result-container'><table class='table-result'><thead style='background-color: white'><tr><th>fixed_acidity</th><th>volatile_acidity</th><th>citric_acid</th><th>residual_sugar</th><th>chlorides</th><th>free_sulfur_dioxide</th><th>total_sulfur_dioxide</th><th>density</th><th>pH</th><th>sulphates</th><th>alcohol</th><th>quality</th><th>features</th></tr></thead><tbody><tr><td>7.4</td><td>0.7</td><td>0.0</td><td>1.9</td><td>0.076</td><td>11.0</td><td>34.0</td><td>0.9978</td><td>3.51</td><td>0.56</td><td>9.4</td><td>5</td><td>Map(vectorType -> dense, length -> 11, values -> List(7.4, 0.7, 0.0, 1.9, 0.076, 11.0, 34.0, 0.9978, 3.51, 0.56, 9.4))</td></tr><tr><td>7.8</td><td>0.88</td><td>0.0</td><td>2.6</td><td>0.098</td><td>25.0</td><td>67.0</td><td>0.9968</td><td>3.2</td><td>0.68</td><td>9.8</td><td>5</td><td>Map(vectorType -> dense, length -> 11, values -> List(7.8, 0.88, 0.0, 2.6, 0.098, 25.0, 67.0, 0.9968, 3.2, 0.68, 9.8))</td></tr><tr><td>7.8</td><td>0.76</td><td>0.04</td><td>2.3</td><td>0.092</td><td>15.0</td><td>54.0</td><td>0.997</td><td>3.26</td><td>0.65</td><td>9.8</td><td>5</td><td>Map(vectorType -> dense, length -> 11, values -> List(7.8, 0.76, 0.04, 2.3, 0.092, 15.0, 54.0, 0.997, 3.26, 0.65, 9.8))</td></tr><tr><td>11.2</td><td>0.28</td><td>0.56</td><td>1.9</td><td>0.075</td><td>17.0</td><td>60.0</td><td>0.998</td><td>3.16</td><td>0.58</td><td>9.8</td><td>6</td><td>Map(vectorType -> dense, length -> 11, values -> List(11.2, 0.28, 0.56, 1.9, 0.075, 17.0, 60.0, 0.998, 3.16, 0.58, 9.8))</td></tr><tr><td>7.4</td><td>0.7</td><td>0.0</td><td>1.9</td><td>0.076</td><td>11.0</td><td>34.0</td><td>0.9978</td><td>3.51</td><td>0.56</td><td>9.4</td><td>5</td><td>Map(vectorType -> dense, length -> 11, values -> List(7.4, 0.7, 0.0, 1.9, 0.076, 11.0, 34.0, 0.9978, 3.51, 0.56, 9.4))</td></tr></tbody></table></div>"
      ]
     },
     "metadata": {
      "application/vnd.databricks.v1+output": {
       "addedWidgets": {},
       "aggData": [],
       "aggError": "",
       "aggOverflow": false,
       "aggSchema": [],
       "aggSeriesLimitReached": false,
       "aggType": "",
       "arguments": {},
       "columnCustomDisplayInfos": {},
       "data": [
        [
         7.4,
         0.7,
         0.0,
         1.9,
         0.076,
         11.0,
         34.0,
         0.9978,
         3.51,
         0.56,
         9.4,
         5,
         {
          "length": 11,
          "values": [
           7.4,
           0.7,
           0.0,
           1.9,
           0.076,
           11.0,
           34.0,
           0.9978,
           3.51,
           0.56,
           9.4
          ],
          "vectorType": "dense"
         }
        ],
        [
         7.8,
         0.88,
         0.0,
         2.6,
         0.098,
         25.0,
         67.0,
         0.9968,
         3.2,
         0.68,
         9.8,
         5,
         {
          "length": 11,
          "values": [
           7.8,
           0.88,
           0.0,
           2.6,
           0.098,
           25.0,
           67.0,
           0.9968,
           3.2,
           0.68,
           9.8
          ],
          "vectorType": "dense"
         }
        ],
        [
         7.8,
         0.76,
         0.04,
         2.3,
         0.092,
         15.0,
         54.0,
         0.997,
         3.26,
         0.65,
         9.8,
         5,
         {
          "length": 11,
          "values": [
           7.8,
           0.76,
           0.04,
           2.3,
           0.092,
           15.0,
           54.0,
           0.997,
           3.26,
           0.65,
           9.8
          ],
          "vectorType": "dense"
         }
        ],
        [
         11.2,
         0.28,
         0.56,
         1.9,
         0.075,
         17.0,
         60.0,
         0.998,
         3.16,
         0.58,
         9.8,
         6,
         {
          "length": 11,
          "values": [
           11.2,
           0.28,
           0.56,
           1.9,
           0.075,
           17.0,
           60.0,
           0.998,
           3.16,
           0.58,
           9.8
          ],
          "vectorType": "dense"
         }
        ],
        [
         7.4,
         0.7,
         0.0,
         1.9,
         0.076,
         11.0,
         34.0,
         0.9978,
         3.51,
         0.56,
         9.4,
         5,
         {
          "length": 11,
          "values": [
           7.4,
           0.7,
           0.0,
           1.9,
           0.076,
           11.0,
           34.0,
           0.9978,
           3.51,
           0.56,
           9.4
          ],
          "vectorType": "dense"
         }
        ]
       ],
       "datasetInfos": [],
       "dbfsResultPath": null,
       "isJsonSchema": true,
       "metadata": {},
       "overflow": false,
       "plotOptions": {
        "customPlotOptions": {},
        "displayType": "table",
        "pivotAggregation": null,
        "pivotColumns": null,
        "xColumns": null,
        "yColumns": null
       },
       "removedWidgets": [],
       "schema": [
        {
         "metadata": "{}",
         "name": "fixed_acidity",
         "type": "\"double\""
        },
        {
         "metadata": "{}",
         "name": "volatile_acidity",
         "type": "\"double\""
        },
        {
         "metadata": "{}",
         "name": "citric_acid",
         "type": "\"double\""
        },
        {
         "metadata": "{}",
         "name": "residual_sugar",
         "type": "\"double\""
        },
        {
         "metadata": "{}",
         "name": "chlorides",
         "type": "\"double\""
        },
        {
         "metadata": "{}",
         "name": "free_sulfur_dioxide",
         "type": "\"double\""
        },
        {
         "metadata": "{}",
         "name": "total_sulfur_dioxide",
         "type": "\"double\""
        },
        {
         "metadata": "{}",
         "name": "density",
         "type": "\"double\""
        },
        {
         "metadata": "{}",
         "name": "pH",
         "type": "\"double\""
        },
        {
         "metadata": "{}",
         "name": "sulphates",
         "type": "\"double\""
        },
        {
         "metadata": "{}",
         "name": "alcohol",
         "type": "\"double\""
        },
        {
         "metadata": "{}",
         "name": "quality",
         "type": "\"long\""
        },
        {
         "metadata": "{}",
         "name": "features",
         "type": "{\"type\":\"udt\",\"class\":\"org.apache.spark.ml.linalg.VectorUDT\",\"pyClass\":\"pyspark.ml.linalg.VectorUDT\",\"sqlType\":{\"type\":\"struct\",\"fields\":[{\"name\":\"type\",\"type\":\"byte\",\"nullable\":false,\"metadata\":{}},{\"name\":\"size\",\"type\":\"integer\",\"nullable\":true,\"metadata\":{}},{\"name\":\"indices\",\"type\":{\"type\":\"array\",\"elementType\":\"integer\",\"containsNull\":false},\"nullable\":true,\"metadata\":{}},{\"name\":\"values\",\"type\":{\"type\":\"array\",\"elementType\":\"double\",\"containsNull\":false},\"nullable\":true,\"metadata\":{}}]}}"
        }
       ],
       "type": "table"
      }
     },
     "output_type": "display_data"
    }
   ],
   "source": [
    "from pyspark.ml.feature import VectorAssembler\n",
    "\n",
    "new_assembler = VectorAssembler(inputCols=df.columns[:-1], outputCol='features')\n",
    "transformed_df = new_assembler.transform(df)\n",
    "\n",
    "display(transformed_df.head(5))"
   ]
  },
  {
   "cell_type": "code",
   "execution_count": 0,
   "metadata": {
    "application/vnd.databricks.v1+cell": {
     "cellMetadata": {
      "byteLimit": 2048000,
      "rowLimit": 10000
     },
     "inputWidgets": {},
     "nuid": "87130951-3ffc-4648-ac01-39f7623bb013",
     "showTitle": false,
     "title": ""
    }
   },
   "outputs": [
    {
     "output_type": "stream",
     "name": "stdout",
     "output_type": "stream",
     "text": [
      "Row(features=DenseVector([7.4, 0.7, 0.0, 1.9, 0.076, 11.0, 34.0, 0.9978, 3.51, 0.56, 9.4]), quality=5, normalized=DenseVector([4.2502, 3.9093, 0.0, 1.3476, 1.6148, 1.0516, 1.0336, 528.6823, 22.7352, 3.3037, 8.8208]))"
     ]
    }
   ],
   "source": [
    "from pyspark.ml.feature import StandardScaler\n",
    "\n",
    "feature_df = transformed_df.select('features', 'quality')\n",
    "ss = StandardScaler().setInputCol('features').setOutputCol('normalized')\n",
    "\n",
    "scaled_df = ss.fit(feature_df).transform(feature_df)\n",
    "scaled_df.write.saveAsTable('wine.normalized_quality')\n",
    "display(scaled_df.head())"
   ]
  },
  {
   "cell_type": "code",
   "execution_count": 0,
   "metadata": {
    "application/vnd.databricks.v1+cell": {
     "cellMetadata": {
      "byteLimit": 2048000,
      "implicitDf": true,
      "rowLimit": 10000
     },
     "inputWidgets": {},
     "nuid": "9b3760ba-e835-457b-843d-2800eaf8c7c7",
     "showTitle": false,
     "title": ""
    }
   },
   "outputs": [
    {
     "output_type": "display_data",
     "data": {
      "text/html": [
       "<style scoped>\n",
       "  .table-result-container {\n",
       "    max-height: 300px;\n",
       "    overflow: auto;\n",
       "  }\n",
       "  table, th, td {\n",
       "    border: 1px solid black;\n",
       "    border-collapse: collapse;\n",
       "  }\n",
       "  th, td {\n",
       "    padding: 5px;\n",
       "  }\n",
       "  th {\n",
       "    text-align: left;\n",
       "  }\n",
       "</style><div class='table-result-container'><table class='table-result'><thead style='background-color: white'><tr><th>features</th><th>quality</th><th>normalized</th></tr></thead><tbody><tr><td>Map(vectorType -> dense, length -> 11, values -> List(7.4, 0.7, 0.0, 1.9, 0.076, 11.0, 34.0, 0.9978, 3.51, 0.56, 9.4))</td><td>5</td><td>Map(vectorType -> dense, length -> 11, values -> List(4.250195651414429, 3.909310602902498, 0.0, 1.3475864865502305, 1.6147776972451329, 1.0516094578454602, 1.033581535954439, 528.6822705480491, 22.73515364311872, 3.303698770128244, 8.820761896223381))</td></tr><tr><td>Map(vectorType -> dense, length -> 11, values -> List(7.8, 0.88, 0.0, 2.6, 0.098, 25.0, 67.0, 0.9968, 3.2, 0.68, 9.8))</td><td>5</td><td>Map(vectorType -> dense, length -> 11, values -> List(4.4799359568962895, 4.914561900791712, 0.0, 1.8440657184371576, 2.0822133464476718, 2.3900214951033187, 2.036763614969041, 528.1524226120418, 20.72720560056408, 4.01163422087001, 9.19611346627544))</td></tr><tr><td>Map(vectorType -> dense, length -> 11, values -> List(7.8, 0.76, 0.04, 2.3, 0.092, 15.0, 54.0, 0.997, 3.26, 0.65, 9.8))</td><td>5</td><td>Map(vectorType -> dense, length -> 11, values -> List(4.4799359568962895, 4.24439436886557, 0.2053376101022085, 1.6312889047713315, 1.9547308966651609, 1.4340128970619912, 1.6415706747511676, 528.2583921992433, 21.115840705574655, 3.8346503581845686, 9.19611346627544))</td></tr><tr><td>Map(vectorType -> dense, length -> 11, values -> List(11.2, 0.28, 0.56, 1.9, 0.075, 17.0, 60.0, 0.998, 3.16, 0.58, 9.8))</td><td>6</td><td>Map(vectorType -> dense, length -> 11, values -> List(6.432728553492108, 1.5637242411609995, 2.874726541430919, 1.3475864865502305, 1.5935306222813812, 1.6252146166702566, 1.8239674163901862, 528.7882401352505, 20.46811553055703, 3.4216880119185378, 9.19611346627544))</td></tr><tr><td>Map(vectorType -> dense, length -> 11, values -> List(7.4, 0.7, 0.0, 1.9, 0.076, 11.0, 34.0, 0.9978, 3.51, 0.56, 9.4))</td><td>5</td><td>Map(vectorType -> dense, length -> 11, values -> List(4.250195651414429, 3.909310602902498, 0.0, 1.3475864865502305, 1.6147776972451329, 1.0516094578454602, 1.033581535954439, 528.6822705480491, 22.73515364311872, 3.303698770128244, 8.820761896223381))</td></tr><tr><td>Map(vectorType -> dense, length -> 11, values -> List(7.4, 0.66, 0.0, 1.8, 0.075, 13.0, 40.0, 0.9978, 3.51, 0.56, 9.4))</td><td>5</td><td>Map(vectorType -> dense, length -> 11, values -> List(4.250195651414429, 3.685921425593784, 0.0, 1.2766608819949552, 1.5935306222813812, 1.2428111774537256, 1.2159782775934573, 528.6822705480491, 22.73515364311872, 3.303698770128244, 8.820761896223381))</td></tr><tr><td>Map(vectorType -> dense, length -> 11, values -> List(7.9, 0.6, 0.06, 1.6, 0.069, 15.0, 59.0, 0.9964, 3.3, 0.46, 9.4))</td><td>5</td><td>Map(vectorType -> dense, length -> 11, values -> List(4.537371033266755, 3.3508376596307126, 0.30800641515331273, 1.1348096728844046, 1.4660481724988708, 1.4340128970619912, 1.7935679594503497, 527.9404834376388, 21.374930775581706, 2.7137525611767717, 8.820761896223381))</td></tr><tr><td>Map(vectorType -> dense, length -> 11, values -> List(7.3, 0.65, 0.0, 1.2, 0.065, 15.0, 21.0, 0.9946, 3.39, 0.47, 10.0))</td><td>7</td><td>Map(vectorType -> dense, length -> 11, values -> List(4.192760575043963, 3.6300741312666056, 0.0, 0.8511072546633035, 1.3810598726438639, 1.4340128970619912, 0.6383885957365651, 526.9867571528258, 21.95788343309757, 2.7727471820719187, 9.383789251301469))</td></tr><tr><td>Map(vectorType -> dense, length -> 11, values -> List(7.8, 0.58, 0.02, 2.0, 0.073, 9.0, 18.0, 0.9968, 3.36, 0.57, 9.5))</td><td>7</td><td>Map(vectorType -> dense, length -> 11, values -> List(4.4799359568962895, 3.2391430709763553, 0.10266880505110425, 1.4185120911055058, 1.5510364723538776, 0.8604077382371946, 0.5471902249170558, 528.1524226120418, 21.76356588059228, 3.3626933910233907, 8.914599788736396))</td></tr><tr><td>Map(vectorType -> dense, length -> 11, values -> List(7.5, 0.5, 0.36, 6.1, 0.071, 17.0, 102.0, 0.9978, 3.35, 0.8, 10.5))</td><td>5</td><td>Map(vectorType -> dense, length -> 11, values -> List(4.307630727784894, 2.7923647163589274, 1.8480384909198764, 4.326461877871792, 1.508542322426374, 1.6252146166702566, 3.1007446078633163, 528.6822705480491, 21.69879336309052, 4.719569671611777, 9.852978713866541))</td></tr></tbody></table></div>"
      ]
     },
     "metadata": {
      "application/vnd.databricks.v1+output": {
       "addedWidgets": {},
       "aggData": [],
       "aggError": "",
       "aggOverflow": false,
       "aggSchema": [],
       "aggSeriesLimitReached": false,
       "aggType": "",
       "arguments": {},
       "columnCustomDisplayInfos": {},
       "data": [
        [
         {
          "length": 11,
          "values": [
           7.4,
           0.7,
           0.0,
           1.9,
           0.076,
           11.0,
           34.0,
           0.9978,
           3.51,
           0.56,
           9.4
          ],
          "vectorType": "dense"
         },
         5,
         {
          "length": 11,
          "values": [
           4.250195651414429,
           3.909310602902498,
           0.0,
           1.3475864865502305,
           1.6147776972451329,
           1.0516094578454602,
           1.033581535954439,
           528.6822705480491,
           22.73515364311872,
           3.303698770128244,
           8.820761896223381
          ],
          "vectorType": "dense"
         }
        ],
        [
         {
          "length": 11,
          "values": [
           7.8,
           0.88,
           0.0,
           2.6,
           0.098,
           25.0,
           67.0,
           0.9968,
           3.2,
           0.68,
           9.8
          ],
          "vectorType": "dense"
         },
         5,
         {
          "length": 11,
          "values": [
           4.4799359568962895,
           4.914561900791712,
           0.0,
           1.8440657184371576,
           2.0822133464476718,
           2.3900214951033187,
           2.036763614969041,
           528.1524226120418,
           20.72720560056408,
           4.01163422087001,
           9.19611346627544
          ],
          "vectorType": "dense"
         }
        ],
        [
         {
          "length": 11,
          "values": [
           7.8,
           0.76,
           0.04,
           2.3,
           0.092,
           15.0,
           54.0,
           0.997,
           3.26,
           0.65,
           9.8
          ],
          "vectorType": "dense"
         },
         5,
         {
          "length": 11,
          "values": [
           4.4799359568962895,
           4.24439436886557,
           0.2053376101022085,
           1.6312889047713315,
           1.9547308966651609,
           1.4340128970619912,
           1.6415706747511676,
           528.2583921992433,
           21.115840705574655,
           3.8346503581845686,
           9.19611346627544
          ],
          "vectorType": "dense"
         }
        ],
        [
         {
          "length": 11,
          "values": [
           11.2,
           0.28,
           0.56,
           1.9,
           0.075,
           17.0,
           60.0,
           0.998,
           3.16,
           0.58,
           9.8
          ],
          "vectorType": "dense"
         },
         6,
         {
          "length": 11,
          "values": [
           6.432728553492108,
           1.5637242411609995,
           2.874726541430919,
           1.3475864865502305,
           1.5935306222813812,
           1.6252146166702566,
           1.8239674163901862,
           528.7882401352505,
           20.46811553055703,
           3.4216880119185378,
           9.19611346627544
          ],
          "vectorType": "dense"
         }
        ],
        [
         {
          "length": 11,
          "values": [
           7.4,
           0.7,
           0.0,
           1.9,
           0.076,
           11.0,
           34.0,
           0.9978,
           3.51,
           0.56,
           9.4
          ],
          "vectorType": "dense"
         },
         5,
         {
          "length": 11,
          "values": [
           4.250195651414429,
           3.909310602902498,
           0.0,
           1.3475864865502305,
           1.6147776972451329,
           1.0516094578454602,
           1.033581535954439,
           528.6822705480491,
           22.73515364311872,
           3.303698770128244,
           8.820761896223381
          ],
          "vectorType": "dense"
         }
        ],
        [
         {
          "length": 11,
          "values": [
           7.4,
           0.66,
           0.0,
           1.8,
           0.075,
           13.0,
           40.0,
           0.9978,
           3.51,
           0.56,
           9.4
          ],
          "vectorType": "dense"
         },
         5,
         {
          "length": 11,
          "values": [
           4.250195651414429,
           3.685921425593784,
           0.0,
           1.2766608819949552,
           1.5935306222813812,
           1.2428111774537256,
           1.2159782775934573,
           528.6822705480491,
           22.73515364311872,
           3.303698770128244,
           8.820761896223381
          ],
          "vectorType": "dense"
         }
        ],
        [
         {
          "length": 11,
          "values": [
           7.9,
           0.6,
           0.06,
           1.6,
           0.069,
           15.0,
           59.0,
           0.9964,
           3.3,
           0.46,
           9.4
          ],
          "vectorType": "dense"
         },
         5,
         {
          "length": 11,
          "values": [
           4.537371033266755,
           3.3508376596307126,
           0.30800641515331273,
           1.1348096728844046,
           1.4660481724988708,
           1.4340128970619912,
           1.7935679594503497,
           527.9404834376388,
           21.374930775581706,
           2.7137525611767717,
           8.820761896223381
          ],
          "vectorType": "dense"
         }
        ],
        [
         {
          "length": 11,
          "values": [
           7.3,
           0.65,
           0.0,
           1.2,
           0.065,
           15.0,
           21.0,
           0.9946,
           3.39,
           0.47,
           10.0
          ],
          "vectorType": "dense"
         },
         7,
         {
          "length": 11,
          "values": [
           4.192760575043963,
           3.6300741312666056,
           0.0,
           0.8511072546633035,
           1.3810598726438639,
           1.4340128970619912,
           0.6383885957365651,
           526.9867571528258,
           21.95788343309757,
           2.7727471820719187,
           9.383789251301469
          ],
          "vectorType": "dense"
         }
        ],
        [
         {
          "length": 11,
          "values": [
           7.8,
           0.58,
           0.02,
           2.0,
           0.073,
           9.0,
           18.0,
           0.9968,
           3.36,
           0.57,
           9.5
          ],
          "vectorType": "dense"
         },
         7,
         {
          "length": 11,
          "values": [
           4.4799359568962895,
           3.2391430709763553,
           0.10266880505110425,
           1.4185120911055058,
           1.5510364723538776,
           0.8604077382371946,
           0.5471902249170558,
           528.1524226120418,
           21.76356588059228,
           3.3626933910233907,
           8.914599788736396
          ],
          "vectorType": "dense"
         }
        ],
        [
         {
          "length": 11,
          "values": [
           7.5,
           0.5,
           0.36,
           6.1,
           0.071,
           17.0,
           102.0,
           0.9978,
           3.35,
           0.8,
           10.5
          ],
          "vectorType": "dense"
         },
         5,
         {
          "length": 11,
          "values": [
           4.307630727784894,
           2.7923647163589274,
           1.8480384909198764,
           4.326461877871792,
           1.508542322426374,
           1.6252146166702566,
           3.1007446078633163,
           528.6822705480491,
           21.69879336309052,
           4.719569671611777,
           9.852978713866541
          ],
          "vectorType": "dense"
         }
        ]
       ],
       "datasetInfos": [],
       "dbfsResultPath": null,
       "isJsonSchema": true,
       "metadata": {},
       "overflow": false,
       "plotOptions": {
        "customPlotOptions": {},
        "displayType": "table",
        "pivotAggregation": null,
        "pivotColumns": null,
        "xColumns": null,
        "yColumns": null
       },
       "removedWidgets": [],
       "schema": [
        {
         "metadata": "{\"ml_attr\":{\"attrs\":{\"numeric\":[{\"idx\":0,\"name\":\"fixed_acidity\"},{\"idx\":1,\"name\":\"volatile_acidity\"},{\"idx\":2,\"name\":\"citric_acid\"},{\"idx\":3,\"name\":\"residual_sugar\"},{\"idx\":4,\"name\":\"chlorides\"},{\"idx\":5,\"name\":\"free_sulfur_dioxide\"},{\"idx\":6,\"name\":\"total_sulfur_dioxide\"},{\"idx\":7,\"name\":\"density\"},{\"idx\":8,\"name\":\"pH\"},{\"idx\":9,\"name\":\"sulphates\"},{\"idx\":10,\"name\":\"alcohol\"}]},\"num_attrs\":11}}",
         "name": "features",
         "type": "{\"type\":\"udt\",\"class\":\"org.apache.spark.ml.linalg.VectorUDT\",\"pyClass\":\"pyspark.ml.linalg.VectorUDT\",\"sqlType\":{\"type\":\"struct\",\"fields\":[{\"name\":\"type\",\"type\":\"byte\",\"nullable\":false,\"metadata\":{}},{\"name\":\"size\",\"type\":\"integer\",\"nullable\":true,\"metadata\":{}},{\"name\":\"indices\",\"type\":{\"type\":\"array\",\"elementType\":\"integer\",\"containsNull\":false},\"nullable\":true,\"metadata\":{}},{\"name\":\"values\",\"type\":{\"type\":\"array\",\"elementType\":\"double\",\"containsNull\":false},\"nullable\":true,\"metadata\":{}}]}}"
        },
        {
         "metadata": "{}",
         "name": "quality",
         "type": "\"integer\""
        },
        {
         "metadata": "{\"ml_attr\":{\"num_attrs\":11}}",
         "name": "normalized",
         "type": "{\"type\":\"udt\",\"class\":\"org.apache.spark.ml.linalg.VectorUDT\",\"pyClass\":\"pyspark.ml.linalg.VectorUDT\",\"sqlType\":{\"type\":\"struct\",\"fields\":[{\"name\":\"type\",\"type\":\"byte\",\"nullable\":false,\"metadata\":{}},{\"name\":\"size\",\"type\":\"integer\",\"nullable\":true,\"metadata\":{}},{\"name\":\"indices\",\"type\":{\"type\":\"array\",\"elementType\":\"integer\",\"containsNull\":false},\"nullable\":true,\"metadata\":{}},{\"name\":\"values\",\"type\":{\"type\":\"array\",\"elementType\":\"double\",\"containsNull\":false},\"nullable\":true,\"metadata\":{}}]}}"
        }
       ],
       "type": "table"
      }
     },
     "output_type": "display_data"
    }
   ],
   "source": [
    "%sql\n",
    "SELECT * \n",
    "FROM \n",
    "wine.normalized_quality\n",
    "LIMIT 10;"
   ]
  },
  {
   "cell_type": "code",
   "execution_count": 0,
   "metadata": {
    "application/vnd.databricks.v1+cell": {
     "cellMetadata": {},
     "inputWidgets": {},
     "nuid": "fe3e6e7a-1699-4328-aa51-eaaba6501ede",
     "showTitle": false,
     "title": ""
    }
   },
   "outputs": [],
   "source": []
  }
 ],
 "metadata": {
  "application/vnd.databricks.v1+notebook": {
   "dashboards": [],
   "environmentMetadata": null,
   "language": "python",
   "notebookMetadata": {
    "mostRecentlyExecutedCommandWithImplicitDF": {
     "commandId": 1986870356273816,
     "dataframes": [
      "_sqldf"
     ]
    },
    "pythonIndentUnit": 4
   },
   "notebookName": "SecondPythonNotebook",
   "widgets": {}
  }
 },
 "nbformat": 4,
 "nbformat_minor": 0
}
